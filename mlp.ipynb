{
 "cells": [
  {
   "cell_type": "markdown",
   "metadata": {},
   "source": [
    "1- Criando Datase"
   ]
  },
  {
   "cell_type": "code",
   "execution_count": 45,
   "metadata": {},
   "outputs": [],
   "source": [
    "import numpy as np\n",
    "from sklearn.datasets import make_blobs\n",
    "import matplotlib.pyplot as plt\n",
    "\n",
    "def criaDataset(n=100, centros=3):\n",
    "  X, y = make_blobs(n_samples=n, centers=centros, cluster_std=0.2)\n",
    "  return X, y\n",
    "\n",
    "X, y = criaDataset()\n",
    "\n",
    "def plotDataset(X, y):\n",
    "  plt.xlabel(\"x1\")\n",
    "  plt.ylabel(\"x2\")\n",
    "  for k in set(y):\n",
    "    plt.plot(X[:,0][y==k],X[:,1][y==k], \"o\", alpha=0.3)"
   ]
  },
  {
   "cell_type": "code",
   "execution_count": 46,
   "metadata": {},
   "outputs": [],
   "source": [
    "def include_bias(X):\n",
    "  bias = np.ones((X.shape[0], 1))\n",
    "  Xb = np.concatenate((bias, X), axis=1)\n",
    "  return Xb\n",
    "\n",
    "def defineAxes(X):\n",
    "    offset = 0.5\n",
    "    min1, max1 = X[:, 0].min(), X[:, 0].max()\n",
    "    min2, max2 = X[:, 1].min(), X[:, 1].max()\n",
    "    return [min1-offset, max1+offset, min2-offset, max2+offset]\n",
    "\n",
    "def plotPredictions(clf, X):\n",
    "    axes = defineAxes(X)\n",
    "    x0s = np.linspace(axes[0], axes[1], 100)\n",
    "    x1s = np.linspace(axes[2], axes[3], 100)\n",
    "    x0, x1 = np.meshgrid(x0s, x1s)\n",
    "    X = np.c_[x0.ravel(), x1.ravel()]\n",
    "    y_pred = clf.predict(X).reshape(x0.shape)\n",
    "    plt.contourf(x0, x1, y_pred, cmap=plt.cm.brg, alpha=0.2)"
   ]
  },
  {
   "cell_type": "markdown",
   "metadata": {},
   "source": [
    "2- Funções de ativação"
   ]
  },
  {
   "cell_type": "code",
   "execution_count": 47,
   "metadata": {},
   "outputs": [],
   "source": [
    "from scipy.special import expit\n",
    "from abc import ABC, abstractmethod\n",
    "\n",
    "class ActivationFunction(ABC):\n",
    "  @abstractmethod\n",
    "  def forward(a):\n",
    "    pass\n",
    "  @abstractmethod\n",
    "  def backward(a):\n",
    "    pass\n",
    "\n",
    "class TanH(ActivationFunction):\n",
    "  def forward(self, a):\n",
    "    return expit(a)*2-1\n",
    "  def backward(self, a):\n",
    "    return (1 - np.square(self.forward(a)))\n",
    "\n",
    "class Sigmoid(ActivationFunction):\n",
    "  def forward(self, a):\n",
    "    return expit(a)\n",
    "  def backward(self, a):\n",
    "    return self.forward(a) * (1 - self.forward(a))\n",
    "  \n",
    "class ReLU(ActivationFunction):\n",
    "  def forward(self, a):\n",
    "      return np.maximum(0, a)\n",
    "  def backward(self, a):\n",
    "      return np.where(a > 0, 1, 0)\n",
    "\n",
    "class LeakyReLU(ActivationFunction):\n",
    "    def __init__(self, alpha=0.01):\n",
    "        self.alpha = alpha\n",
    "    def forward(self, a):\n",
    "        return np.where(a > 0, a, self.alpha * a)\n",
    "    def backward(self, a):\n",
    "        return np.where(a > 0, 1, self.alpha)"
   ]
  },
  {
   "cell_type": "markdown",
   "metadata": {},
   "source": [
    "3- Implementação"
   ]
  },
  {
   "cell_type": "code",
   "execution_count": 48,
   "metadata": {},
   "outputs": [],
   "source": [
    "from sklearn.preprocessing import label_binarize\n",
    "from sklearn.base import BaseEstimator, ClassifierMixin\n",
    "from sklearn.metrics import accuracy_score\n",
    "\n",
    "class Backpropagation(BaseEstimator, ClassifierMixin):\n",
    "  def __init__(self, \n",
    "               max_iter=1000, \n",
    "               learning_rate=0.001, \n",
    "               n_hidden=[2],\n",
    "               activation=TanH()):\n",
    "    self.max_iter = max_iter\n",
    "    self.learning_rate = learning_rate\n",
    "    self.n_hidden = n_hidden\n",
    "    self.activation = activation\n",
    "\n",
    "  def forward(self, X):\n",
    "    self.A = []\n",
    "    self.Z = []\n",
    "    AUX = X.copy()\n",
    "    for W in self.Ws:\n",
    "      self.A.append(include_bias(AUX))\n",
    "      self.Z.append(self.A[-1] @ W)\n",
    "      AUX = self.activation.forward(self.Z[-1])\n",
    "    return AUX\n",
    "\n",
    "  def backward(self, X, y, ypred):\n",
    "    grads = []\n",
    "    output_delta = y - ypred\n",
    "    grads.insert(0, self.A[-1].T @ output_delta)\n",
    "    for i in range(len(self.Ws)-1, 0, -1):\n",
    "      tanh_grad = self.activation.backward(self.Z[i-1])\n",
    "      input_delta = (output_delta @ self.Ws[i][1:,:].T) * tanh_grad\n",
    "      grads.insert(0, self.A[i-1].T @ input_delta)\n",
    "      output_delta = input_delta.copy()\n",
    "    for i in range(len(self.Ws)-1, -1, -1):\n",
    "      self.Ws[i] += grads[i] * self.learning_rate\n",
    "\n",
    "  def encode_labels(self, y):\n",
    "    self.labels = list(set(y))\n",
    "    return label_binarize(y, classes=self.labels)\n",
    "\n",
    "  def fit(self, X, y):\n",
    "    yhot = self.encode_labels(y)\n",
    "    self.Ws = []\n",
    "    previous_output = X.shape[1]\n",
    "    for layer_size in self.n_hidden:\n",
    "      self.Ws.append(np.random.uniform(-1, 1, size=(previous_output+1, layer_size)))\n",
    "      previous_output = self.Ws[-1].shape[1]\n",
    "    self.Ws.append(np.random.uniform(-1, 1, size=(previous_output+1, yhot.shape[1])))\n",
    "    for _ in range(self.max_iter):\n",
    "      ypred = self.forward(X)\n",
    "      self.backward(X, yhot, ypred)\n",
    "\n",
    "  def predict(self, X):\n",
    "    a = self.forward(X)\n",
    "    if len(self.labels) <= 2:\n",
    "      idx = np.array(a > 0, dtype=int).reshape(-1,)\n",
    "    else:\n",
    "      idx = np.argmax(a, axis=1)\n",
    "    ypred = np.array([self.labels[i] for i in idx])\n",
    "    return ypred"
   ]
  },
  {
   "cell_type": "markdown",
   "metadata": {},
   "source": [
    "4- Teste"
   ]
  },
  {
   "cell_type": "code",
   "execution_count": 64,
   "metadata": {},
   "outputs": [
    {
     "data": {
      "text/plain": [
       "1.0"
      ]
     },
     "execution_count": 64,
     "metadata": {},
     "output_type": "execute_result"
    },
    {
     "data": {
      "image/png": "[encoded data removed]",
      "text/plain": [
       "<Figure size 640x480 with 1 Axes>"
      ]
     },
     "metadata": {},
     "output_type": "display_data"
    }
   ],
   "source": [
    "X, y = criaDataset(centros=5)\n",
    "clf = Backpropagation(n_hidden=[5])\n",
    "clf.fit(X, y)\n",
    "plotDataset(X, y)\n",
    "plotPredictions(clf, X)\n",
    "ypred = clf.predict(X)\n",
    "accuracy_score(y, ypred)"
   ]
  },
  {
   "cell_type": "markdown",
   "metadata": {},
   "source": [
    "5- Comparação com Scikit-Learn"
   ]
  },
  {
   "cell_type": "code",
   "execution_count": 72,
   "metadata": {},
   "outputs": [
    {
     "data": {
      "text/plain": [
       "(array([0.6, 0.6, 0.6, 0.6, 0.8]), 0.64)"
      ]
     },
     "execution_count": 72,
     "metadata": {},
     "output_type": "execute_result"
    }
   ],
   "source": [
    "from sklearn.model_selection import cross_validate\n",
    "\n",
    "scores = cross_validate(Backpropagation(), X, y)\n",
    "scores['test_score'], np.mean(scores['test_score'])"
   ]
  },
  {
   "cell_type": "code",
   "execution_count": 66,
   "metadata": {},
   "outputs": [
    {
     "data": {
      "text/plain": [
       "(array([1., 1., 1., 1., 1.]), 1.0)"
      ]
     },
     "execution_count": 66,
     "metadata": {},
     "output_type": "execute_result"
    }
   ],
   "source": [
    "from sklearn.neural_network import MLPClassifier\n",
    "\n",
    "scores = cross_validate(MLPClassifier(max_iter=3000), X, y)\n",
    "scores['test_score'], np.mean(scores['test_score'])"
   ]
  }
 ],
 "metadata": {
  "kernelspec": {
   "display_name": "Python 3",
   "language": "python",
   "name": "python3"
  },
  "language_info": {
   "codemirror_mode": {
    "name": "ipython",
    "version": 3
   },
   "file_extension": ".py",
   "mimetype": "text/x-python",
   "name": "python",
   "nbconvert_exporter": "python",
   "pygments_lexer": "ipython3",
   "version": "3.12.2"
  }
 },
 "nbformat": 4,
 "nbformat_minor": 2
}
